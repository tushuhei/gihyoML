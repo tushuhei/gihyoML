{
 "cells": [
  {
   "cell_type": "code",
   "execution_count": 1,
   "metadata": {
    "collapsed": false
   },
   "outputs": [
    {
     "data": {
      "text/plain": [
       "[<matplotlib.lines.Line2D at 0x7fd5203b1240>]"
      ]
     },
     "execution_count": 1,
     "metadata": {},
     "output_type": "execute_result"
    },
    {
     "data": {
      "image/png": "[encoded data removed]",
      "text/plain": [
       "<matplotlib.figure.Figure at 0x7fd5203b11d0>"
      ]
     },
     "metadata": {},
     "output_type": "display_data"
    }
   ],
   "source": [
    "%matplotlib inline\n",
    "import numpy as np\n",
    "import pylab as plt\n",
    "np.random.seed(0)\n",
    "\n",
    "def phi(x, y):\n",
    "    return np.array([x, y, 1])\n",
    "\n",
    "def h(x, y):\n",
    "    return -3 * x + 3 * y - 1\n",
    "\n",
    "N = 100\n",
    "X = np.random.randn(N, 2)\n",
    "T = np.array([1 if h(x, y) > 0 else -1 for x, y in X])\n",
    "plt.plot(X[:,0][T == 1], X[:,1][T == 1], 'bo')\n",
    "plt.plot(X[:,0][T == -1], X[:,1][T == -1], 'ro')"
   ]
  },
  {
   "cell_type": "code",
   "execution_count": null,
   "metadata": {
    "collapsed": false
   },
   "outputs": [
    {
     "name": "stdout",
     "output_type": "stream",
     "text": [
      "[-6.02406865  6.17613824 -2.        ]\n"
     ]
    }
   ],
   "source": [
    "import random\n",
    "w = np.zeros(3)\n",
    "while True:\n",
    "    misses = 0\n",
    "    x = [i for i in range(N)]\n",
    "    random.shuffle(x)\n",
    "    for n in x:\n",
    "        x_n, y_n = X[n]\n",
    "        t_n = T[n]\n",
    "        predict = np.sign((w * phi(x_n, y_n)).sum())\n",
    "        if predict != t_n:\n",
    "            w += t_n * phi(x_n, y_n)\n",
    "            misses += 1\n",
    "    if misses == 0:\n",
    "        break\n",
    "print(w)"
   ]
  },
  {
   "cell_type": "code",
   "execution_count": null,
   "metadata": {
    "collapsed": false
   },
   "outputs": [],
   "source": [
    "seq = np.arange(-3, 3, 0.02)\n",
    "xlist, ylist = np.meshgrid(seq, seq)\n",
    "zlist = np.array([np.sign((w * phi(x, y)).sum()) for x, y in zip(xlist, ylist)])\n",
    "plt.pcolor(xlist, ylist, zlist, alpha=0.2, edgecolors='white')\n",
    "plt.plot(X[T== 1,0], X[T== 1,1], 'o', color='red')\n",
    "plt.plot(X[T==-1,0], X[T==-1,1], 'o', color='blue')\n",
    "plt.show()"
   ]
  }
 ],
 "metadata": {
  "kernelspec": {
   "display_name": "Python 3",
   "language": "python",
   "name": "python3"
  },
  "language_info": {
   "codemirror_mode": {
    "name": "ipython",
    "version": 3
   },
   "file_extension": ".py",
   "mimetype": "text/x-python",
   "name": "python",
   "nbconvert_exporter": "python",
   "pygments_lexer": "ipython3",
   "version": "3.4.4"
  }
 },
 "nbformat": 4,
 "nbformat_minor": 0
}
