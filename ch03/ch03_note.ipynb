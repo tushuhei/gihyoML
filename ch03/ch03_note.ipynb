{
 "cells": [
  {
   "cell_type": "code",
   "execution_count": 1,
   "metadata": {
    "collapsed": false
   },
   "outputs": [],
   "source": [
    "import json\n",
    "from urllib.parse import urlencode\n",
    "from urllib.request import urlopen\n",
    "from bs4 import BeautifulSoup\n",
    "\n",
    "config = json.load(open('../config.json'))\n",
    "APP_ID = config['yahoo']\n",
    "pageurl = \"http://jlp.yahooapis.jp/MAService/V1/parse\""
   ]
  },
  {
   "cell_type": "markdown",
   "metadata": {},
   "source": [
    "形態素解析器の作成"
   ]
  },
  {
   "cell_type": "code",
   "execution_count": 2,
   "metadata": {
    "collapsed": false
   },
   "outputs": [
    {
     "name": "stdout",
     "output_type": "stream",
     "text": [
      "['今日', 'ご飯', '何']\n"
     ]
    }
   ],
   "source": [
    "def get_words(sentence, appid=APP_ID, results=\"ma\", filter=\"1|2|3|4|5|9|10\"):\n",
    "    sentence = sentence.encode('utf8')\n",
    "    params = urlencode({\n",
    "            'appid': appid,\n",
    "            'results': results,\n",
    "            'filter': filter,\n",
    "            'sentence': sentence\n",
    "        })\n",
    "    results = urlopen(pageurl, params.encode('utf8'))\n",
    "    soup = BeautifulSoup(results.read())\n",
    "    return [w.surface.string for w in soup.ma_result.word_list]\n",
    "print(get_words(u'今日のご飯は何かな'))"
   ]
  },
  {
   "cell_type": "markdown",
   "metadata": {},
   "source": [
    "ナイーブベイズモデルの作成"
   ]
  },
  {
   "cell_type": "code",
   "execution_count": 18,
   "metadata": {
    "collapsed": false
   },
   "outputs": [],
   "source": [
    "import math\n",
    "class NaiveBayes(object):\n",
    "    def __init__(self):\n",
    "        self.vocabularies = set()\n",
    "        self.wordcount = {}  # {cat: {word: n, ...}, ...}\n",
    "        self.catcount = {}  # {cat: n, ...}\n",
    "\n",
    "    def train(self, doc, cat):\n",
    "        words = get_words(doc)\n",
    "        self.catcount.setdefault(cat, 0)\n",
    "        self.catcount[cat] += 1\n",
    "        for word in words:\n",
    "            self.vocabularies.add(word)\n",
    "            self.wordcount.setdefault(cat, {})\n",
    "            self.wordcount[cat].setdefault(word, 0)\n",
    "            self.wordcount[cat][word] += 1\n",
    "    \n",
    "    def prior(self, cat):\n",
    "        return 1. * self.catcount[cat] / sum(self.catcount.values())\n",
    "    \n",
    "    def wordprob(self, word, cat):\n",
    "        n_word = self.incategory(word, cat) + 1.\n",
    "        n_cat = sum(self.wordcount[cat].values()) + len(self.vocabularies)\n",
    "        return 1. * n_word / n_cat\n",
    "        \n",
    "    def incategory(self, word, cat):\n",
    "        if word in self.wordcount[cat]:\n",
    "            return 1. * self.wordcount[cat][word]\n",
    "        else:\n",
    "            return 0.\n",
    "\n",
    "    def score(self, words, cat):\n",
    "        score = math.log(self.prior(cat))\n",
    "        for word in words:\n",
    "            score += math.log(self.wordprob(word, cat))\n",
    "        return score\n",
    "    \n",
    "    def classifier(self, doc):\n",
    "        max_prob = -1000\n",
    "        best_cat = None\n",
    "        words = get_words(doc)\n",
    "        for cat in self.catcount.keys():\n",
    "            prob = self.score(words, cat)\n",
    "            if prob > max_prob:\n",
    "                max_prob = prob\n",
    "                best_cat = cat\n",
    "        return best_cat"
   ]
  },
  {
   "cell_type": "code",
   "execution_count": 19,
   "metadata": {
    "collapsed": false
   },
   "outputs": [],
   "source": [
    "nb = NaiveBayes()\n",
    "nb.train(u'''Python（パイソン）は，オランダ人のグイド・ヴァンロッサムが作ったオープンソースのプログラミング言語。\n",
    "オブジェクト指向スクリプト言語の一種であり，Perlとともに欧米で広く普及している。イギリスのテレビ局 BBC が製作した\n",
    "コメディ番組『空飛ぶモンティパイソン』にちなんで名付けられた。Python は英語で爬虫類のニシキヘビの意味で，\n",
    "Python言語のマスコットやアイコンとして使われることがある。Pythonは汎用の高水準言語である。\n",
    "プログラマの生産性とコードの信頼性を重視して設計されており，核となるシンタックスおよびセマンティクスは必要最小限に抑えられている反面，\n",
    "利便性の高い大規模な標準ライブラリを備えている。\n",
    "Unicode による文字列操作をサポートしており，日本語処理も標準で可能である。\n",
    "多くのプラットフォームをサポートしており（動作するプラットフォーム），また，豊富なドキュメント，豊富なライブラリがあることから，\n",
    "産業界でも利用が増えつつある。''', 'Python')\n",
    "\n",
    "nb.train(u'''Ruby（ルビー）は，まつもとゆきひろ（通称Matz）により開発されたオブジェクト指向スクリプト言語であり，\n",
    "従来 Perlなどのスクリプト言語が用いられてきた領域でのオブジェクト指向プログラミングを実現する。Rubyは当初1993年2月24日に生まれ， \n",
    "1995年12月にfj上で発表された。名称のRubyは，プログラミング言語Perlが6月の誕生石であるPearl（真珠）と同じ発音をすることから，\n",
    "まつもとの同僚の誕生石（7月）のルビーを取って名付けられた。''', 'Ruby')\n",
    "\n",
    "nb.train(u'''豊富な機械学習（きかいがくしゅう，Machine learning）とは，人工知能における研究課題の一つで，\n",
    "人間が自然に行っている学習能力と同様の機能をコンピュータで実現させるための技術・手法のことである。\n",
    "ある程度の数のサンプルデータ集合を対象に解析を行い，そのデータから有用な規則，ルール，知識表現，判断基準などを抽出する。\n",
    "データ集合を解析するため，統計学との関連も非常に深い。\n",
    "機械学習は検索エンジン，医療診断，スパムメールの検出，金融市場の予測，DNA配列の分類，音声認識や文字認識などのパターン認識，\n",
    "ゲーム戦略，ロボット，など幅広い分野で用いられている。応用分野の特性に応じて学習手法も適切に選択する必要があり，\n",
    "様々な手法が提案されている。それらの手法は， Machine Learning や IEEE Transactions on Pattern Analysis\n",
    "and Machine Intelligence などの学術雑誌などで発表されることが多い。''', u'機械学習')"
   ]
  },
  {
   "cell_type": "code",
   "execution_count": 20,
   "metadata": {
    "collapsed": false
   },
   "outputs": [
    {
     "name": "stdout",
     "output_type": "stream",
     "text": [
      "Python はオランダ生まれって知ってました？ => 推定カテゴリ: Python\n"
     ]
    }
   ],
   "source": [
    "words = u'Python はオランダ生まれって知ってました？'\n",
    "print(u'%s => 推定カテゴリ: %s' % (words ,nb.classifier(words)))"
   ]
  },
  {
   "cell_type": "code",
   "execution_count": 21,
   "metadata": {
    "collapsed": false
   },
   "outputs": [
    {
     "name": "stdout",
     "output_type": "stream",
     "text": [
      "まつもとさんって人が作ったプログラミング言語 => 推定カテゴリ: Ruby\n"
     ]
    }
   ],
   "source": [
    "words = u'まつもとさんって人が作ったプログラミング言語'\n",
    "print(u'%s => 推定カテゴリ: %s' % (words ,nb.classifier(words)))"
   ]
  },
  {
   "cell_type": "code",
   "execution_count": 22,
   "metadata": {
    "collapsed": false
   },
   "outputs": [
    {
     "name": "stdout",
     "output_type": "stream",
     "text": [
      "機械学習は様々な分野に使われ始めています。 => 推定カテゴリ: 機械学習\n"
     ]
    }
   ],
   "source": [
    "words = u'機械学習は様々な分野に使われ始めています。'\n",
    "print(u'%s => 推定カテゴリ: %s' % (words ,nb.classifier(words)))"
   ]
  },
  {
   "cell_type": "markdown",
   "metadata": {},
   "source": [
    "Oreore Unit testing"
   ]
  },
  {
   "cell_type": "code",
   "execution_count": 66,
   "metadata": {
    "collapsed": false
   },
   "outputs": [
    {
     "name": "stdout",
     "output_type": "stream",
     "text": [
      "vocabularies: True\n",
      "wordcount: True\n",
      "catcount: True\n",
      "prior: True\n",
      "wordprob included: True\n",
      "wordprob nonincluded: True\n",
      "incategory: True\n"
     ]
    }
   ],
   "source": [
    "def test_train(nb):\n",
    "    print('vocabularies:', nb.vocabularies == set(['機械', '学習', 'へび', '言語']))\n",
    "    print('wordcount:', nb.wordcount == {'ml': {'機械': 1, '学習': 1}, 'python': {'へび': 1, '言語': 2}})\n",
    "    print('catcount:', nb.catcount == {'ml': 1, 'python': 1})\n",
    "    \n",
    "def test_prior(nb):\n",
    "    print('prior:', nb.prior('python') == 0.5)\n",
    "\n",
    "def test_wordprob(nb):\n",
    "    print('wordprob included:', nb.wordprob('機械', 'ml') == 1. * (1 + 1) / (2 + 4))\n",
    "    print('wordprob nonincluded:', nb.wordprob('SVM', 'ml') == 1. * 1 / (2 + 4))\n",
    "    \n",
    "def test_incategory(nb):\n",
    "    print('incategory:', nb.incategory('機械', 'ml') == 1)\n",
    "        \n",
    "nb = NaiveBayes()\n",
    "nb.train('機械と学習', 'ml')\n",
    "nb.train('へびと言語言語', 'python')\n",
    "test_train(nb)\n",
    "test_prior(nb)\n",
    "test_wordprob(nb)\n",
    "test_incategory(nb)"
   ]
  }
 ],
 "metadata": {
  "kernelspec": {
   "display_name": "Python 3",
   "language": "python",
   "name": "python3"
  },
  "language_info": {
   "codemirror_mode": {
    "name": "ipython",
    "version": 3
   },
   "file_extension": ".py",
   "mimetype": "text/x-python",
   "name": "python",
   "nbconvert_exporter": "python",
   "pygments_lexer": "ipython3",
   "version": "3.4.4"
  }
 },
 "nbformat": 4,
 "nbformat_minor": 0
}
